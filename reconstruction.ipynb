{
 "cells": [
  {
   "cell_type": "code",
   "execution_count": 1,
   "id": "66700006",
   "metadata": {},
   "outputs": [],
   "source": [
    "import torch\n",
    "from torchvision.transforms import ToTensor\n",
    "from utils.dataloader import NYUv2\n",
    "import open3d as o3d\n",
    "\n",
    "\n",
    "# RGB Parameters\n",
    "fx, fy = 5.1885790117450188e+02, 5.1946961112127485e+02\n",
    "cx, cy = 3.2558244941119034e+02, 2.5373616633400465e+02\n"
   ]
  },
  {
   "cell_type": "code",
   "execution_count": 2,
   "id": "ff41753d",
   "metadata": {},
   "outputs": [],
   "source": [
    "def depth_to_point_cloud(depth, K):\n",
    "    \"\"\"\n",
    "    depth: Tensor of shape (H, W) - values in meters\n",
    "    K: camera params\n",
    "    Retorna: Tensor of shape (N, 3) with 3D points\n",
    "    \"\"\"\n",
    "    device = depth.device\n",
    "    H, W = depth.shape\n",
    "    y, x = torch.meshgrid(torch.arange(H, device=device), torch.arange(W, device=device), indexing='ij')\n",
    "\n",
    "    z = depth\n",
    "    x = (x - K[\"cx\"]) * z / K[\"fx\"]\n",
    "    y = (y - K[\"cy\"]) * z / K[\"fy\"\n",
    "\n",
    "    ]\n",
    "    xyz = torch.stack((x, y, z), dim=-1)  # (H, W, 3)\n",
    "    xyz = xyz.view(-1, 3)  # (N, 3)\n",
    "    valid = (z > 0).view(-1)\n",
    "    return xyz[valid]\n"
   ]
  },
  {
   "cell_type": "code",
   "execution_count": 11,
   "id": "0010749e",
   "metadata": {},
   "outputs": [
    {
     "name": "stdout",
     "output_type": "stream",
     "text": [
      "tensor([[[0, 0, 0,  ..., 0, 0, 0],\n",
      "         [0, 0, 0,  ..., 0, 0, 0],\n",
      "         [0, 0, 0,  ..., 0, 0, 0],\n",
      "         ...,\n",
      "         [0, 0, 0,  ..., 0, 0, 0],\n",
      "         [0, 0, 0,  ..., 0, 0, 0],\n",
      "         [0, 0, 0,  ..., 0, 0, 0]]])\n",
      "tensor([[[255, 255, 255,  ..., 255, 255, 255],\n",
      "         [255, 255, 255,  ..., 255, 255, 255],\n",
      "         [255, 255, 255,  ..., 255, 255, 255],\n",
      "         ...,\n",
      "         [255, 255, 255,  ..., 255, 255, 255],\n",
      "         [255, 255, 255,  ..., 255, 255, 255],\n",
      "         [255, 255, 255,  ..., 255, 255, 255]]])\n",
      "RGB shape: torch.Size([3, 480, 640]), Segmentation shape: torch.Size([1, 480, 640]), Depth shape: torch.Size([1, 480, 640])\n"
     ]
    }
   ],
   "source": [
    "dataset = NYUv2(\n",
    "    root=\"data/nyuv2\",\n",
    "    train=False,\n",
    "    rgb_transform=ToTensor(),\n",
    "    seg_transform=ToTensor(),\n",
    "    depth_transform=ToTensor()\n",
    ")\n",
    "\n",
    "rgb, seg, depth = dataset[0]  # depth in meters\n",
    "print(f\"RGB shape: {rgb.shape}, Segmentation shape: {seg.shape}, Depth shape: {depth.shape}\")\n",
    "depth = depth.squeeze(0)  # (H, W, 1) -> (H, W)\n",
    "\n",
    "K = {\"fx\": fx, \"fy\": fy, \"cx\": cx, \"cy\": cy}"
   ]
  },
  {
   "cell_type": "code",
   "execution_count": 4,
   "id": "e6ff2e35",
   "metadata": {},
   "outputs": [
    {
     "name": "stdout",
     "output_type": "stream",
     "text": [
      "Point cloud: torch.Size([253016, 3])\n"
     ]
    }
   ],
   "source": [
    "point_cloud = depth_to_point_cloud(depth, K)  # (N, 3)\n",
    "\n",
    "print(\"Point cloud:\", point_cloud.shape)\n"
   ]
  },
  {
   "cell_type": "code",
   "execution_count": 5,
   "id": "bd6c636f",
   "metadata": {},
   "outputs": [],
   "source": [
    "\n",
    "def visualize_point_cloud(xyz, rgb=None):\n",
    "    pcd = o3d.geometry.PointCloud()\n",
    "    pcd.points = o3d.utility.Vector3dVector(xyz.cpu().numpy())\n",
    "    if rgb is not None:\n",
    "        pcd.colors = o3d.utility.Vector3dVector(rgb.cpu().numpy())\n",
    "    o3d.visualization.draw_geometries([pcd])"
   ]
  },
  {
   "cell_type": "code",
   "execution_count": 6,
   "id": "55cd14ec",
   "metadata": {},
   "outputs": [
    {
     "data": {
      "text/plain": [
       "array([0.        , 0.00392157, 0.00784314, 0.01176471, 0.01568628,\n",
       "       0.01960784, 0.02352941, 0.02745098, 0.03137255, 0.03529412,\n",
       "       0.03921569, 0.04313726, 0.04705882, 0.05098039, 0.05490196,\n",
       "       0.05882353, 0.0627451 , 0.06666667, 0.07058824, 0.07450981,\n",
       "       0.07843138, 0.08235294, 0.08627451, 0.09019608, 0.09411765,\n",
       "       0.09803922, 0.10196079, 0.10588235, 0.10980392, 0.11372549,\n",
       "       0.11764706, 0.12156863, 0.1254902 , 0.12941177, 0.13333334,\n",
       "       0.13725491, 0.14117648, 0.14509805, 0.14901961, 0.15294118,\n",
       "       0.15686275, 0.16078432, 0.16470589, 0.16862746, 0.17254902,\n",
       "       0.1764706 , 0.18039216, 0.18431373, 0.1882353 , 0.19215687,\n",
       "       0.19607843, 0.2       , 0.20392157, 0.20784314, 0.21176471,\n",
       "       0.21568628, 0.21960784, 0.22352941, 0.22745098, 0.23137255,\n",
       "       0.23529412, 0.23921569, 0.24313726, 0.24705882, 0.2509804 ,\n",
       "       0.25490198, 0.25882354, 0.2627451 , 0.26666668, 0.27058825,\n",
       "       0.27450982, 0.2784314 , 0.28235295, 0.28627452, 0.2901961 ,\n",
       "       0.29411766, 0.29803923, 0.3019608 , 0.30588236, 0.30980393,\n",
       "       0.3137255 , 0.31764707, 0.32156864, 0.3254902 , 0.32941177,\n",
       "       0.33333334, 0.3372549 , 0.34117648, 0.34509805, 0.34901962,\n",
       "       0.3529412 , 0.35686275, 0.36078432, 0.3647059 , 0.36862746,\n",
       "       0.37254903, 0.3764706 , 0.38039216, 0.38431373, 0.3882353 ,\n",
       "       0.39215687, 0.39607844, 0.4       , 0.40392157, 0.40784314,\n",
       "       0.4117647 , 0.41568628, 0.41960785, 0.42352942, 0.42745098,\n",
       "       0.43137255, 0.43529412, 0.4392157 , 0.44313726, 0.44705883,\n",
       "       0.4509804 , 0.45490196, 0.45882353, 0.4627451 , 0.46666667,\n",
       "       0.47058824, 0.4745098 , 0.47843137, 0.48235294, 0.4862745 ,\n",
       "       0.49019608, 0.49411765, 0.49803922, 0.5019608 , 0.5058824 ,\n",
       "       0.50980395, 0.5137255 , 0.5176471 , 0.52156866, 0.5254902 ,\n",
       "       0.5294118 , 0.53333336, 0.5372549 , 0.5411765 , 0.54509807,\n",
       "       0.54901963, 0.5529412 , 0.5568628 , 0.56078434, 0.5647059 ,\n",
       "       0.5686275 , 0.57254905, 0.5764706 , 0.5803922 , 0.58431375,\n",
       "       0.5882353 , 0.5921569 , 0.59607846, 0.6       , 0.6039216 ,\n",
       "       0.60784316, 0.6117647 , 0.6156863 , 0.61960787, 0.62352943,\n",
       "       0.627451  , 0.6313726 , 0.63529414, 0.6392157 , 0.6431373 ,\n",
       "       0.64705884, 0.6509804 , 0.654902  , 0.65882355, 0.6627451 ,\n",
       "       0.6666667 , 0.67058825, 0.6745098 , 0.6784314 , 0.68235296,\n",
       "       0.6862745 , 0.6901961 , 0.69411767, 0.69803923, 0.7019608 ,\n",
       "       0.7058824 , 0.70980394, 0.7137255 , 0.7176471 , 0.72156864,\n",
       "       0.7254902 , 0.7294118 , 0.73333335, 0.7372549 , 0.7411765 ,\n",
       "       0.74509805, 0.7490196 , 0.7529412 , 0.75686276, 0.7607843 ,\n",
       "       0.7647059 , 0.76862746, 0.77254903, 0.7764706 , 0.78039217,\n",
       "       0.78431374, 0.7882353 , 0.7921569 , 0.79607844, 0.8       ,\n",
       "       0.8039216 , 0.80784315, 0.8117647 , 0.8156863 , 0.81960785,\n",
       "       0.8235294 , 0.827451  , 0.83137256, 0.8352941 , 0.8392157 ,\n",
       "       0.84313726, 0.84705883, 0.8509804 , 0.85490197, 0.85882354,\n",
       "       0.8627451 , 0.8666667 , 0.87058824, 0.8745098 , 0.8784314 ,\n",
       "       0.88235295, 0.8862745 , 0.8901961 , 0.89411765, 0.8980392 ,\n",
       "       0.9019608 , 0.90588236, 0.9098039 , 0.9137255 , 0.91764706,\n",
       "       0.92156863, 0.9254902 , 0.92941177, 0.93333334, 0.9372549 ,\n",
       "       0.9411765 , 0.94509804, 0.9490196 , 0.9529412 , 0.95686275,\n",
       "       0.9607843 , 0.9647059 , 0.96862745, 0.972549  , 0.9764706 ,\n",
       "       0.98039216, 0.9843137 , 0.9882353 , 0.99215686, 0.99607843,\n",
       "       1.        ], dtype=float32)"
      ]
     },
     "execution_count": 6,
     "metadata": {},
     "output_type": "execute_result"
    }
   ],
   "source": [
    "import numpy as np\n",
    "\n",
    "\n",
    "np.unique(rgb)"
   ]
  },
  {
   "cell_type": "code",
   "execution_count": 7,
   "id": "3c01c630",
   "metadata": {},
   "outputs": [],
   "source": [
    "valid_rgb = rgb.permute(1, 2, 0).reshape(-1, 3)[(depth > 0).view(-1)]  # (N, 3)\n",
    "visualize_point_cloud(point_cloud, valid_rgb)"
   ]
  },
  {
   "cell_type": "code",
   "execution_count": 8,
   "id": "b15d99fa",
   "metadata": {},
   "outputs": [],
   "source": [
    "from utils.dataloader import get_segmentation_colors\n",
    "\n",
    "\n",
    "colored_seg = get_segmentation_colors(seg)"
   ]
  },
  {
   "cell_type": "code",
   "execution_count": 9,
   "id": "badce2a3",
   "metadata": {},
   "outputs": [
    {
     "data": {
      "text/plain": [
       "array([0.        , 0.13333333, 0.15294118, 0.15686275, 0.17254902,\n",
       "       0.47058824, 0.58823529, 0.59607843, 0.62745098, 0.69019608,\n",
       "       0.71372549, 0.73333333, 0.7372549 , 0.74117647, 0.77254902,\n",
       "       0.82352941, 0.83529412, 0.83921569, 0.96862745, 1.        ])"
      ]
     },
     "execution_count": 9,
     "metadata": {},
     "output_type": "execute_result"
    }
   ],
   "source": [
    "np.unique(colored_seg)"
   ]
  },
  {
   "cell_type": "code",
   "execution_count": 10,
   "id": "7cde9a59",
   "metadata": {},
   "outputs": [
    {
     "name": "stdout",
     "output_type": "stream",
     "text": [
      "Valid segmentation shape: torch.Size([253016, 3])\n"
     ]
    }
   ],
   "source": [
    "valid_seg = colored_seg.permute(1, 2, 0).reshape(-1, 3)[(depth > 0).view(-1)]  # (N, 3)\n",
    "print(\"Valid segmentation shape:\", valid_seg.shape)\n",
    "visualize_point_cloud(point_cloud, valid_seg)"
   ]
  },
  {
   "cell_type": "code",
   "execution_count": 2,
   "id": "86ad2365",
   "metadata": {},
   "outputs": [
    {
     "name": "stdout",
     "output_type": "stream",
     "text": [
      "2.6.0\n",
      "12.6\n",
      "True\n"
     ]
    }
   ],
   "source": [
    "import torch\n",
    "print(torch.__version__)\n",
    "print(torch.version.cuda)\n",
    "print(torch.cuda.is_available())"
   ]
  }
 ],
 "metadata": {
  "kernelspec": {
   "display_name": "argus",
   "language": "python",
   "name": "python3"
  },
  "language_info": {
   "codemirror_mode": {
    "name": "ipython",
    "version": 3
   },
   "file_extension": ".py",
   "mimetype": "text/x-python",
   "name": "python",
   "nbconvert_exporter": "python",
   "pygments_lexer": "ipython3",
   "version": "3.13.3"
  }
 },
 "nbformat": 4,
 "nbformat_minor": 5
}
