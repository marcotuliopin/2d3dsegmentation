{
 "cells": [
  {
   "cell_type": "code",
   "execution_count": null,
   "id": "66700006",
   "metadata": {},
   "outputs": [],
   "source": [
    "import torch\n",
    "from torchvision.transforms import ToTensor\n",
    "import open3d as o3d\n",
    "\n",
    "from utils.dataset import NYUv2\n",
    "from utils.dataloader import DepthToTensor\n",
    "from utils.dataset import get_segmentation_colors\n",
    "\n",
    "\n",
    "# RGB Parameters\n",
    "fx, fy = 5.1885790117450188e+02, 5.1946961112127485e+02\n",
    "cx, cy = 3.2558244941119034e+02, 2.5373616633400465e+02\n"
   ]
  },
  {
   "cell_type": "code",
   "execution_count": 2,
   "id": "ff41753d",
   "metadata": {},
   "outputs": [],
   "source": [
    "def depth_to_point_cloud(depth, K):\n",
    "    \"\"\"\n",
    "    depth: Tensor of shape (H, W) - values in meters\n",
    "    K: camera params\n",
    "    Retorna: Tensor of shape (N, 3) with 3D points\n",
    "    \"\"\"\n",
    "    device = depth.device\n",
    "    H, W = depth.shape\n",
    "\n",
    "    y, x = torch.meshgrid(torch.arange(H, device=device), torch.arange(W, device=device), indexing='ij')\n",
    "\n",
    "    z = depth\n",
    "    x = (x - K[\"cx\"]) * z / K[\"fx\"]\n",
    "    y = (y - K[\"cy\"]) * z / K[\"fy\"]\n",
    "    xyz = torch.stack((x, y, z), dim=-1)  # (H, W, 3)\n",
    "    xyz = xyz.view(-1, 3)  # (N, 3)\n",
    "    valid = (depth > 0).view(-1)  # Mask for valid points\n",
    "    return xyz[valid], valid\n"
   ]
  },
  {
   "cell_type": "code",
   "execution_count": 3,
   "id": "0010749e",
   "metadata": {},
   "outputs": [
    {
     "name": "stdout",
     "output_type": "stream",
     "text": [
      "RGB shape: torch.Size([3, 480, 640]), Segmentation shape: torch.Size([480, 640]), Depth shape: torch.Size([1, 480, 640])\n"
     ]
    }
   ],
   "source": [
    "dataset = NYUv2(\n",
    "    root=\"data/nyuv2\",\n",
    "    train=False,\n",
    "    rgb_transform=ToTensor(),\n",
    "    seg_transform=ToTensor(),\n",
    "    depth_transform=DepthToTensor(),\n",
    ")\n",
    "\n",
    "rgb, seg, depth = dataset[0]  # depth in meters\n",
    "print(f\"RGB shape: {rgb.shape}, Segmentation shape: {seg.shape}, Depth shape: {depth.shape}\")\n",
    "depth = depth.squeeze(0)  # (H, W, 1) -> (H, W)\n",
    "\n",
    "K = {\"fx\": fx, \"fy\": fy, \"cx\": cx, \"cy\": cy}"
   ]
  },
  {
   "cell_type": "code",
   "execution_count": 4,
   "id": "e6ff2e35",
   "metadata": {},
   "outputs": [
    {
     "name": "stdout",
     "output_type": "stream",
     "text": [
      "Point cloud: torch.Size([307200, 3])\n"
     ]
    }
   ],
   "source": [
    "point_cloud, valid = depth_to_point_cloud(depth, K)  # (N, 3)\n",
    "\n",
    "print(\"Point cloud:\", point_cloud.shape)\n"
   ]
  },
  {
   "cell_type": "code",
   "execution_count": 5,
   "id": "bd6c636f",
   "metadata": {},
   "outputs": [],
   "source": [
    "def visualize_point_cloud(xyz, rgb=None):\n",
    "    pcd = o3d.geometry.PointCloud()\n",
    "    pcd.points = o3d.utility.Vector3dVector(xyz.cpu().numpy())\n",
    "    if rgb is not None:\n",
    "        pcd.colors = o3d.utility.Vector3dVector(rgb.cpu().numpy())\n",
    "    o3d.visualization.draw_geometries([pcd])"
   ]
  },
  {
   "cell_type": "code",
   "execution_count": 10,
   "id": "3c01c630",
   "metadata": {},
   "outputs": [],
   "source": [
    "valid_rgb = rgb.permute(1, 2, 0).reshape(-1, 3)[valid]  # (N, 3)\n",
    "visualize_point_cloud(point_cloud, valid_rgb)"
   ]
  },
  {
   "cell_type": "code",
   "execution_count": 7,
   "id": "b15d99fa",
   "metadata": {},
   "outputs": [],
   "source": [
    "colored_seg = get_segmentation_colors(seg)"
   ]
  },
  {
   "cell_type": "code",
   "execution_count": 8,
   "id": "7cde9a59",
   "metadata": {},
   "outputs": [
    {
     "name": "stdout",
     "output_type": "stream",
     "text": [
      "Valid segmentation shape: torch.Size([307200, 3])\n"
     ]
    }
   ],
   "source": [
    "valid_seg = colored_seg.permute(1, 2, 0).reshape(-1, 3)[(depth > 0).view(-1)]  # (N, 3)\n",
    "print(\"Valid segmentation shape:\", valid_seg.shape)\n",
    "visualize_point_cloud(point_cloud, valid_seg)"
   ]
  },
  {
   "cell_type": "code",
   "execution_count": 9,
   "id": "86ad2365",
   "metadata": {},
   "outputs": [
    {
     "name": "stdout",
     "output_type": "stream",
     "text": [
      "2.6.0\n",
      "12.6\n",
      "True\n"
     ]
    }
   ],
   "source": [
    "import torch\n",
    "print(torch.__version__)\n",
    "print(torch.version.cuda)\n",
    "print(torch.cuda.is_available())"
   ]
  }
 ],
 "metadata": {
  "kernelspec": {
   "display_name": "argus",
   "language": "python",
   "name": "python3"
  },
  "language_info": {
   "codemirror_mode": {
    "name": "ipython",
    "version": 3
   },
   "file_extension": ".py",
   "mimetype": "text/x-python",
   "name": "python",
   "nbconvert_exporter": "python",
   "pygments_lexer": "ipython3",
   "version": "3.13.3"
  }
 },
 "nbformat": 4,
 "nbformat_minor": 5
}
